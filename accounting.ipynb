{
 "cells": [
  {
   "cell_type": "code",
   "execution_count": 26,
   "metadata": {},
   "outputs": [
    {
     "name": "stdout",
     "output_type": "stream",
     "text": [
      "5\n",
      "5\n",
      "7\n",
      "5\n",
      "5\n"
     ]
    }
   ],
   "source": [
    "n, q = [int(i) for i in input().split()]\n",
    "holdings = [[0, 0]] * n\n",
    "check= [-1, 0]\n",
    "for i in range(q):\n",
    "    command = input().split()\n",
    "    val = command[0]\n",
    "    if val == 'SET':\n",
    "        k  = int(command[1]) - 1\n",
    "        holdings[k] = [i, int(command[2])]\n",
    "    elif val == 'RESTART':\n",
    "        check = [i, int(command[1])]\n",
    "    else:\n",
    "        k = int(command[1]) - 1\n",
    "        if holdings[k][0] > check[0]:\n",
    "            print(holdings[k][1])\n",
    "        else:\n",
    "            print(check[1])"
   ]
  }
 ],
 "metadata": {
  "interpreter": {
   "hash": "6b9e98c0456a3f62642c1485ef1345fe39e2b651191fbf3c6db44293b6747641"
  },
  "kernelspec": {
   "display_name": "Python 3.9.7 ('tfmac')",
   "language": "python",
   "name": "python3"
  },
  "language_info": {
   "codemirror_mode": {
    "name": "ipython",
    "version": 3
   },
   "file_extension": ".py",
   "mimetype": "text/x-python",
   "name": "python",
   "nbconvert_exporter": "python",
   "pygments_lexer": "ipython3",
   "version": "3.9.7"
  },
  "orig_nbformat": 4
 },
 "nbformat": 4,
 "nbformat_minor": 2
}
