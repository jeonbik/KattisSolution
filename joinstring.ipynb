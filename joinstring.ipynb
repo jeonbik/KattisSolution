{
 "cells": [
  {
   "cell_type": "code",
   "execution_count": 10,
   "metadata": {},
   "outputs": [
    {
     "name": "stdout",
     "output_type": "stream",
     "text": [
      "{1: 'cute', 2: 'cat', 3: 'kattis', 4: 'is'}\n",
      "kattiscatiscute\n"
     ]
    }
   ],
   "source": [
    "dict_ = {}\n",
    "num = int(input())+1\n",
    "for i in range(1,num):\n",
    "    dict_[i] = input()\n",
    "print(dict_)\n",
    "last = 0\n",
    "for j in range(num-2):\n",
    "    a,b = map(int,input().split())\n",
    "    dict_[a] = dict_[a] + dict_[b]\n",
    "    del(dict_[b])\n",
    "for v in dict_.values():print(v)\n",
    "\n"
   ]
  },
  {
   "cell_type": "code",
   "execution_count": 9,
   "metadata": {},
   "outputs": [
    {
     "name": "stdout",
     "output_type": "stream",
     "text": [
      "abc\n"
     ]
    }
   ],
   "source": [
    "4\n",
    "cute\n",
    "cat\n",
    "kattis\n",
    "is\n",
    "3 2\n",
    "4 1\n",
    "3 4\n",
    "\n"
   ]
  },
  {
   "cell_type": "code",
   "execution_count": 6,
   "metadata": {},
   "outputs": [
    {
     "data": {
      "text/plain": [
       "{1: 'cute', 2: 'cat', 3: 'kattiscatiscute', 4: 'iscute'}"
      ]
     },
     "execution_count": 6,
     "metadata": {},
     "output_type": "execute_result"
    }
   ],
   "source": [
    "3\n",
    "howis\n",
    "this\n",
    "practicalexam\n",
    "1 2\n",
    "1 3\n",
    "\n"
   ]
  },
  {
   "cell_type": "code",
   "execution_count": 28,
   "metadata": {},
   "outputs": [],
   "source": [
    "a ={ 1:\"Bik\"}\n",
    "for i in range(10):\n",
    "    a[1] = a[1]+ a[1]+a[1]+a[1]+a[1]\n",
    "    a[1] += a[1]\n",
    "\n"
   ]
  },
  {
   "cell_type": "code",
   "execution_count": 30,
   "metadata": {},
   "outputs": [
    {
     "data": {
      "text/plain": [
       "10000000000.0"
      ]
     },
     "execution_count": 30,
     "metadata": {},
     "output_type": "execute_result"
    }
   ],
   "source": [
    "len(a[1])/3"
   ]
  },
  {
   "cell_type": "code",
   "execution_count": null,
   "metadata": {},
   "outputs": [],
   "source": []
  }
 ],
 "metadata": {
  "interpreter": {
   "hash": "b95159b0fb4f3907fcf04fc95e1d79e4cd1ad49eae47773d29a17ecd45801e72"
  },
  "kernelspec": {
   "display_name": "Python 3.9.7 ('pythonDatastructure')",
   "language": "python",
   "name": "python3"
  },
  "language_info": {
   "codemirror_mode": {
    "name": "ipython",
    "version": 3
   },
   "file_extension": ".py",
   "mimetype": "text/x-python",
   "name": "python",
   "nbconvert_exporter": "python",
   "pygments_lexer": "ipython3",
   "version": "3.9.7"
  },
  "orig_nbformat": 4
 },
 "nbformat": 4,
 "nbformat_minor": 2
}
