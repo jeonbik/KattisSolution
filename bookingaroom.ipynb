{
 "cells": [
  {
   "cell_type": "code",
   "execution_count": null,
   "metadata": {},
   "outputs": [],
   "source": [
    "n,booked = map(int,input().split())\n",
    "rooms = []\n",
    "for i in range(booked):\n",
    "    rooms.append(int(input()))\n",
    "a = [i for i in range(1,n+1) if i not in rooms]\n",
    "if n == booked: print('too late')\n",
    "else:print(a[0])"
   ]
  },
  {
   "cell_type": "code",
   "execution_count": null,
   "metadata": {},
   "outputs": [],
   "source": []
  }
 ],
 "metadata": {
  "language_info": {
   "name": "python"
  },
  "orig_nbformat": 4
 },
 "nbformat": 4,
 "nbformat_minor": 2
}
