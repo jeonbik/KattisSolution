{
 "cells": [
  {
   "cell_type": "code",
   "execution_count": 53,
   "id": "ffc131a7",
   "metadata": {},
   "outputs": [
    {
     "name": "stdout",
     "output_type": "stream",
     "text": [
      "def foo 3\n",
      "calc foo + bar =\n",
      "foo + bar = unknown\n",
      "def bar 7\n",
      "def programming 10\n",
      "\n"
     ]
    }
   ],
   "source": [
    "import sys\n",
    "worth = {}\n",
    "while True:\n",
    "    inputs = input()\n",
    "    if len(inputs) == 0:\n",
    "        break\n",
    "    if inputs == \"clear\":\n",
    "        worth.clear()\n",
    "    words = inputs.split()\n",
    "    if words[0] == \"def\":\n",
    "        worth[words[1]] = words[2]\n",
    "    else:\n",
    "        Unknown = False\n",
    "        expression = ''\n",
    "        words.remove(words[0])\n",
    "        i = 1\n",
    "        for word in words:\n",
    "            if i%2==0:\n",
    "                expression += word\n",
    "            else:\n",
    "                try:\n",
    "                    expression += worth[word]\n",
    "                except KeyError:\n",
    "                    Unknown = True\n",
    "                    break\n",
    "            \n",
    "            i += 1    \n",
    "        expressionCopy = expression[:-1]\n",
    "        value = eval(expressionCopy)\n",
    "        if Unknown or str(value) not in worth.values():\n",
    "            print(*words,\"unknown\")\n",
    "        else: \n",
    "            print(*words,list(worth.keys())[list(worth.values()).index(str(value))])\n",
    "            \n",
    "            "
   ]
  },
  {
   "cell_type": "code",
   "execution_count": 23,
   "id": "d485319b",
   "metadata": {},
   "outputs": [
    {
     "name": "stdout",
     "output_type": "stream",
     "text": [
      "programming\n"
     ]
    }
   ],
   "source": [
    "expressioncopy = expression[:-1]\n",
    "value = eval(expressioncopy)\n",
    "print(list(worth.keys())[list(worth.values()).index(str(value))])\n"
   ]
  },
  {
   "cell_type": "code",
   "execution_count": 24,
   "id": "9bfcfa95",
   "metadata": {},
   "outputs": [
    {
     "data": {
      "text/plain": [
       "dict_values(['3', '7', '10'])"
      ]
     },
     "execution_count": 24,
     "metadata": {},
     "output_type": "execute_result"
    }
   ],
   "source": [
    "def foo 3\n",
    "calc foo + bar =\n",
    "def bar 7\n",
    "def programming 10\n",
    "calc foo + bar =\n",
    "def is 4\n",
    "def fun 8\n",
    "calc programming - is + fun =\n",
    "def fun 1\n",
    "calc programming - is + fun =\n",
    "clear"
   ]
  },
  {
   "cell_type": "code",
   "execution_count": 52,
   "id": "fbb1d4f8",
   "metadata": {},
   "outputs": [
    {
     "name": "stdout",
     "output_type": "stream",
     "text": [
      "foo + bar = unknown\r\n",
      "foo + bar = programming\r\n",
      "programming - is + fun = unknown\r\n",
      "programming - is + fun = bar\r\n"
     ]
    }
   ],
   "source": [
    "!python3 addword.py < addword.txt"
   ]
  },
  {
   "cell_type": "code",
   "execution_count": 42,
   "id": "0712da3c",
   "metadata": {},
   "outputs": [
    {
     "data": {
      "text/plain": [
       "{'foo': '3', 'bar': '7', 'programming': '10', 'is': '4', 'fun': '1'}"
      ]
     },
     "execution_count": 42,
     "metadata": {},
     "output_type": "execute_result"
    }
   ],
   "source": []
  },
  {
   "cell_type": "code",
   "execution_count": 46,
   "id": "f1b52c4b",
   "metadata": {},
   "outputs": [
    {
     "name": "stdout",
     "output_type": "stream",
     "text": [
      "10\n"
     ]
    }
   ],
   "source": [
    "if '10' in worth.values():\n",
    "    print(10)"
   ]
  },
  {
   "cell_type": "code",
   "execution_count": null,
   "id": "ce6cd151",
   "metadata": {},
   "outputs": [],
   "source": []
  }
 ],
 "metadata": {
  "kernelspec": {
   "display_name": "Python 3 (ipykernel)",
   "language": "python",
   "name": "python3"
  },
  "language_info": {
   "codemirror_mode": {
    "name": "ipython",
    "version": 3
   },
   "file_extension": ".py",
   "mimetype": "text/x-python",
   "name": "python",
   "nbconvert_exporter": "python",
   "pygments_lexer": "ipython3",
   "version": "3.10.0"
  }
 },
 "nbformat": 4,
 "nbformat_minor": 5
}
