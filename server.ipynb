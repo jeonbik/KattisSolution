{
 "cells": [
  {
   "cell_type": "code",
   "execution_count": null,
   "metadata": {},
   "outputs": [],
   "source": [
    "6 180\n",
    "45 30 55 20 80 20\n",
    "\n"
   ]
  },
  {
   "cell_type": "code",
   "execution_count": 14,
   "metadata": {},
   "outputs": [
    {
     "name": "stdout",
     "output_type": "stream",
     "text": [
      "total time 0, task number 0\n",
      "total time 45, task number 1\n",
      "total time 75, task number 2\n",
      "total time 130, task number 3\n",
      "total time 150, task number 4\n",
      "4\n"
     ]
    }
   ],
   "source": [
    "task_number,total_time = input().split()\n",
    "total_time = int(total_time)\n",
    "times = list(map(int,input().split()))\n",
    "time = 0\n",
    "i = 0\n",
    "if sum(times) <= total_time: print(int(task_number))\n",
    "\n",
    "else:\n",
    "    while time < total_time:\n",
    "        time += times[i]\n",
    "        if time <= total_time:\n",
    "            i += 1\n",
    "    print(i)\n"
   ]
  }
 ],
 "metadata": {
  "interpreter": {
   "hash": "6b9e98c0456a3f62642c1485ef1345fe39e2b651191fbf3c6db44293b6747641"
  },
  "kernelspec": {
   "display_name": "Python 3.9.7 ('tfmac')",
   "language": "python",
   "name": "python3"
  },
  "language_info": {
   "codemirror_mode": {
    "name": "ipython",
    "version": 3
   },
   "file_extension": ".py",
   "mimetype": "text/x-python",
   "name": "python",
   "nbconvert_exporter": "python",
   "pygments_lexer": "ipython3",
   "version": "3.9.7"
  },
  "orig_nbformat": 4
 },
 "nbformat": 4,
 "nbformat_minor": 2
}
