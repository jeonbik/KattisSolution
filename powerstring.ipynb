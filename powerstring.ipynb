{
 "cells": [
  {
   "cell_type": "code",
   "execution_count": null,
   "metadata": {},
   "outputs": [],
   "source": [
    "#naive \n",
    "while True:\n",
    "    val = input()\n",
    "    if val == \".\":\n",
    "        break\n",
    "    input_len = len(val)\n",
    "    if input_len == len(set(val)):\n",
    "        print(1)\n",
    "        continue\n",
    "    track = True\n",
    "    for i in range(1,input_len-1):\n",
    "        if input_len%i != 0:\n",
    "            continue\n",
    "        for j in range(i,input_len):\n",
    "            if val[j] != val[j%i]:\n",
    "                track = False\n",
    "                break\n",
    "        if track:\n",
    "            break\n",
    "        track = True\n",
    "    print(int(input_len/i))"
   ]
  },
  {
   "cell_type": "code",
   "execution_count": 52,
   "metadata": {},
   "outputs": [
    {
     "name": "stdout",
     "output_type": "stream",
     "text": [
      "1\n",
      "1\n"
     ]
    }
   ],
   "source": [
    "def unique_list11(word,divisors):\n",
    "    unique = 999999999999\n",
    "    for div in divisors:\n",
    "            # print(\"begin: {}, end,{}, div: {}\".format(word[:div],word[div:div+div],div))\n",
    "            if word[:div] == word[div:div+div]: #or word[:div] != word[-div:]:\n",
    "                unique_list.append(word[:div])\n",
    "                unique = div\n",
    "                # print(\"new: unique\",unique,\"Unique_list:\", unique_list)\n",
    "    return unique\n",
    "\n",
    "while(True):\n",
    "    word = input()\n",
    "    if word == \".\":\n",
    "        break\n",
    "    word_length = len(word)\n",
    "    if len(set(word)) == word_length:\n",
    "        print(1)\n",
    "        continue\n",
    "        \n",
    "    elif len(set(word)) == 1:\n",
    "        # print(word_length)\n",
    "        continue    \n",
    "    else:\n",
    "        divisors = []\n",
    "        for i in range(2,word_length):\n",
    "            if word_length %i == 0:\n",
    "                divisors.append(i)\n",
    "        unique_list= []\n",
    "        for div in divisors:\n",
    "            # print(\"begin: {}, end,{}, div: {}\".format(word[:div],word[div:div+div],div))\n",
    "            if word[:div] == word[div:div+div]: #or word[:div] != word[-div:]:\n",
    "                unique_list.append(word[:div])\n",
    "                unique = div\n",
    "                # print(\"new: unique\",unique,\"Unique_list:\", unique_list)\n",
    "        k = []\n",
    "        for val in unique_list:\n",
    "            k.append(unique_list11(val,divisors))\n",
    "        # print(\"This is K \",k)\n",
    "        unique = min(k)\n",
    "        for div in divisors:\n",
    "            if unique * div == word_length:\n",
    "                print(div)\n",
    "                break\n"
   ]
  },
  {
   "cell_type": "code",
   "execution_count": 47,
   "metadata": {},
   "outputs": [],
   "source": []
  },
  {
   "cell_type": "code",
   "execution_count": null,
   "metadata": {},
   "outputs": [],
   "source": []
  }
 ],
 "metadata": {
  "interpreter": {
   "hash": "6b9e98c0456a3f62642c1485ef1345fe39e2b651191fbf3c6db44293b6747641"
  },
  "kernelspec": {
   "display_name": "Python 3.9.7 ('tfmac')",
   "language": "python",
   "name": "python3"
  },
  "language_info": {
   "codemirror_mode": {
    "name": "ipython",
    "version": 3
   },
   "file_extension": ".py",
   "mimetype": "text/x-python",
   "name": "python",
   "nbconvert_exporter": "python",
   "pygments_lexer": "ipython3",
   "version": "3.9.7"
  },
  "orig_nbformat": 4
 },
 "nbformat": 4,
 "nbformat_minor": 2
}
