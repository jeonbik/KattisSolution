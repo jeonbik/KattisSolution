{
 "cells": [
  {
   "cell_type": "code",
   "execution_count": null,
   "metadata": {},
   "outputs": [],
   "source": [
    "#naive \n",
    "while True:\n",
    "    val = input()\n",
    "    if val == \".\":\n",
    "        break\n",
    "    input_len = len(val)\n",
    "    if input_len == len(set(val)):\n",
    "        print(1)\n",
    "        continue\n",
    "    track = True\n",
    "    for i in range(1,input_len-1):\n",
    "        if input_len%i != 0:\n",
    "            continue\n",
    "        for j in range(i,input_len):\n",
    "            if val[j] != val[j%i]:\n",
    "                track = False\n",
    "                break\n",
    "        if track:\n",
    "            break\n",
    "        track = True\n",
    "    print(int(input_len/i))"
   ]
  },
  {
   "cell_type": "code",
   "execution_count": null,
   "metadata": {},
   "outputs": [],
   "source": [
    "while(True):\n",
    "    word = input()\n",
    "    if word == \".\":\n",
    "        break\n",
    "    word_length = len(word)\n",
    "    if len(set(word)) == word_length:\n",
    "        print(1)\n",
    "        continue\n",
    "        \n",
    "    elif len(set(word)) == 1:\n",
    "        print(word_length)\n",
    "        continue    \n",
    "    else:\n",
    "        divisors = []\n",
    "        for i in range(2,word_length):\n",
    "            if word_length %i == 0:\n",
    "                divisors.append(i)\n",
    "        breaks = True\n",
    "        for power in divisors:\n",
    "            init_word = word[:power] #ab\n",
    "            start_idx = power #2\n",
    "            for letters in word: #ababab\n",
    "                current_letters = word[start_idx:start_idx+power] #ab\n",
    "                if current_letters != init_word:\n",
    "                    breaks = False\n",
    "                    break\n",
    "                start_idx += power\n",
    "        if not breaks: print(word_length/power)\n",
    "        else: print(power)\n",
    "\n",
    "\n",
    "\n",
    "\n",
    "\n"
   ]
  },
  {
   "cell_type": "code",
   "execution_count": 80,
   "metadata": {},
   "outputs": [
    {
     "name": "stdout",
     "output_type": "stream",
     "text": [
      "288\n"
     ]
    }
   ],
   "source": []
  }
 ],
 "metadata": {
  "interpreter": {
   "hash": "6b9e98c0456a3f62642c1485ef1345fe39e2b651191fbf3c6db44293b6747641"
  },
  "kernelspec": {
   "display_name": "Python 3.9.7 ('tfmac')",
   "language": "python",
   "name": "python3"
  },
  "language_info": {
   "codemirror_mode": {
    "name": "ipython",
    "version": 3
   },
   "file_extension": ".py",
   "mimetype": "text/x-python",
   "name": "python",
   "nbconvert_exporter": "python",
   "pygments_lexer": "ipython3",
   "version": "3.9.7"
  },
  "orig_nbformat": 4
 },
 "nbformat": 4,
 "nbformat_minor": 2
}
