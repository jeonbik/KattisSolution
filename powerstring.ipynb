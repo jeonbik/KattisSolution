{
 "cells": [
  {
   "cell_type": "code",
   "execution_count": null,
   "metadata": {},
   "outputs": [],
   "source": [
    "#naive \n",
    "while True:\n",
    "    val = input()\n",
    "    if val == \".\":\n",
    "        break\n",
    "    input_len = len(val)\n",
    "    if input_len == len(set(val)):\n",
    "        print(1)\n",
    "        continue\n",
    "    track = True\n",
    "    for i in range(1,input_len-1):\n",
    "        if input_len%i != 0:\n",
    "            continue\n",
    "        for j in range(i,input_len):\n",
    "            if val[j] != val[j%i]:\n",
    "                track = False\n",
    "                break\n",
    "        if track:\n",
    "            break\n",
    "        track = True\n",
    "    print(int(input_len/i))"
   ]
  },
  {
   "cell_type": "code",
   "execution_count": null,
   "metadata": {},
   "outputs": [],
   "source": []
  },
  {
   "cell_type": "code",
   "execution_count": 3,
   "metadata": {},
   "outputs": [
    {
     "name": "stdout",
     "output_type": "stream",
     "text": [
      "1\n",
      "4\n",
      "1\n"
     ]
    }
   ],
   "source": [
    "while(True):\n",
    "    word = input().strip()\n",
    "    if word == \".\":\n",
    "        break\n",
    "    word_length = len(word)\n",
    "    if len(set(word)) == word_length:\n",
    "        print(1)\n",
    "        continue\n",
    "        \n",
    "    elif len(set(word)) == 1:\n",
    "        print(word_length)\n",
    "        continue    \n",
    "    else:\n",
    "        divisors = []\n",
    "        for i in range(1,int((word_length**0.5)+2)):\n",
    "            if word_length %i == 0:\n",
    "                divisors.append(i),divisors.append(word_length//i)\n",
    "        divisors = sorted(list(set(divisors)))\n",
    "        for div in divisors:\n",
    "            # print(\"begin: {}, end,{}, div: {}\".format(word[:div],word[div:div+div],div))\n",
    "            if word[-div:] * (word_length//div) == word:print(word_length//div)\n",
    "            break"
   ]
  },
  {
   "cell_type": "code",
   "execution_count": null,
   "metadata": {},
   "outputs": [],
   "source": [
    "abcd\n",
    "aaaa\n",
    "ababab\n",
    ".\n",
    "\n"
   ]
  },
  {
   "cell_type": "code",
   "execution_count": null,
   "metadata": {},
   "outputs": [],
   "source": [
    "from sys import stdin\n",
    "\n",
    "def find_divisors(n):\n",
    "\tdivisors = []\n",
    "\tmaxi = int((n**(0.5)+1))\n",
    "\tfor i in range(1, maxi+1):\n",
    "\t\tif n % i == 0:\n",
    "\t\t\tdivisors.append(i)\n",
    "\t\t\tdivisors.append(n//i)\n",
    "\treturn sorted(list(set(divisors)))\n",
    "\n",
    "line = stdin.readline().strip()\n",
    "while line != \".\":\n",
    "\tlength = len(line)\n",
    "\tdivisors = find_divisors(length)\n",
    "\tfor n in divisors:\n",
    "\t\tif line[-n:]*(length//n) == line:\n",
    "\t\t\tans = (length//n)\n",
    "\t\t\tbreak\n",
    "\tprint(ans)\n",
    "\tline = stdin.readline().strip()"
   ]
  },
  {
   "cell_type": "code",
   "execution_count": null,
   "metadata": {},
   "outputs": [],
   "source": []
  },
  {
   "cell_type": "code",
   "execution_count": null,
   "metadata": {},
   "outputs": [],
   "source": []
  }
 ],
 "metadata": {
  "interpreter": {
   "hash": "6b9e98c0456a3f62642c1485ef1345fe39e2b651191fbf3c6db44293b6747641"
  },
  "kernelspec": {
   "display_name": "Python 3.9.7 ('tfmac')",
   "language": "python",
   "name": "python3"
  },
  "language_info": {
   "codemirror_mode": {
    "name": "ipython",
    "version": 3
   },
   "file_extension": ".py",
   "mimetype": "text/x-python",
   "name": "python",
   "nbconvert_exporter": "python",
   "pygments_lexer": "ipython3",
   "version": "3.9.7"
  },
  "orig_nbformat": 4
 },
 "nbformat": 4,
 "nbformat_minor": 2
}
