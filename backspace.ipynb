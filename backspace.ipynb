{
 "cells": [
  {
   "cell_type": "code",
   "execution_count": null,
   "metadata": {},
   "outputs": [],
   "source": [
    "a = input()\n",
    "a = list(a)\n",
    "stack = []\n",
    "for character in a:\n",
    "    if character == \"<\": stack.pop()\n",
    "    else: stack.append(character)\n",
    "print(\"\".join(i for i in stack))"
   ]
  }
 ],
 "metadata": {
  "language_info": {
   "name": "python"
  },
  "orig_nbformat": 4
 },
 "nbformat": 4,
 "nbformat_minor": 2
}
