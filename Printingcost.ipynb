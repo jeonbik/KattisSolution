{
 "cells": [
  {
   "cell_type": "code",
   "execution_count": null,
   "metadata": {},
   "outputs": [],
   "source": [
    "given_cost = {' ': 0, '!': 9, '\"': 6, '#': 24, '$': 29, '%': 22, '&': 24, '\\'': 3, '(': 12, ')': 12, '*': 17,\n",
    "         '+': 13, ',': 7, '-': 7, '.': 4, '/': 10, '0': 22, '1': 19, '2': 22, '3': 23, '4': 21, '5': 27,\n",
    "         '6': 26, '7': 16, '8': 23, '9': 26, ':': 8, ';': 11, '<': 10, '=': 14, '>': 10, '?': 15, '@': 32,\n",
    "         'A': 24, 'B': 29, 'C': 20, 'D': 26, 'E': 26, 'F': 20, 'G': 25, 'H': 25, 'I': 18, 'J': 18, 'K': 21,\n",
    "         'L': 16, 'M': 28, 'N': 25, 'O': 26, 'P': 23, 'Q': 31, 'R': 28, 'S': 25, 'T': 16, 'U': 23, 'V': 19,\n",
    "         'W': 26, 'X': 18, 'Y': 14, 'Z': 22, '[': 18, '\\\\': 10, ']': 18, '^': 7, '_': 8, '`': 3, 'a': 23,\n",
    "         'b': 25, 'c': 17, 'd': 25, 'e': 23, 'f': 18, 'g': 30, 'h': 21, 'i': 15, 'j': 20, 'k': 21, 'l': 16,\n",
    "         'm': 22, 'n': 18, 'o': 20, 'p': 25, 'q': 25, 'r': 13, 's': 21, 't': 17, 'u': 17, 'v': 13, 'w': 19,\n",
    "         'x': 13, 'y': 24, 'z': 19, '{': 18, '|': 12, '}': 18, '~': 9}\n",
    "import sys\n",
    "for lines in sys.stdin:\n",
    "    total_cost = 0\n",
    "    for cost in lines:\n",
    "        if cost == '\\n':\n",
    "            break\n",
    "        total_cost += given_cost[cost]\n",
    "    print(total_cost)"
   ]
  }
 ],
 "metadata": {
  "interpreter": {
   "hash": "6b9e98c0456a3f62642c1485ef1345fe39e2b651191fbf3c6db44293b6747641"
  },
  "kernelspec": {
   "display_name": "Python 3.9.7 ('tfmac')",
   "language": "python",
   "name": "python3"
  },
  "language_info": {
   "codemirror_mode": {
    "name": "ipython",
    "version": 3
   },
   "file_extension": ".py",
   "mimetype": "text/x-python",
   "name": "python",
   "nbconvert_exporter": "python",
   "pygments_lexer": "ipython3",
   "version": "3.9.7"
  },
  "orig_nbformat": 4
 },
 "nbformat": 4,
 "nbformat_minor": 2
}
