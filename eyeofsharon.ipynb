{
 "cells": [
  {
   "cell_type": "code",
   "execution_count": 1,
   "metadata": {},
   "outputs": [],
   "source": [
    "val = input()\n",
    "found_left = \"(\" in val\n",
    "found_right = \")\" in val\n",
    "if found_left and found_right:\n",
    "    idx_left = val.index(\"(\")\n",
    "    idx_right = val.index(\")\")\n",
    "    if len(val[:idx_left]) == len(val[idx_right+1:]):\n",
    "        # print(\"{} {}\".format(val[:idx_left],val[idx_right:]))\n",
    "        print(\"correct\")\n",
    "    else:\n",
    "        print(\"fix\")\n",
    "else:\n",
    "    print(\"fix\")"
   ]
  },
  {
   "cell_type": "code",
   "execution_count": null,
   "metadata": {},
   "outputs": [],
   "source": []
  }
 ],
 "metadata": {
  "interpreter": {
   "hash": "26f5811f7ee005381ac2ee0557ac5cc025bbaba0a36b2d565725d13779b0ac6f"
  },
  "kernelspec": {
   "display_name": "Python 3.8.8 ('base')",
   "language": "python",
   "name": "python3"
  },
  "language_info": {
   "codemirror_mode": {
    "name": "ipython",
    "version": 3
   },
   "file_extension": ".py",
   "mimetype": "text/x-python",
   "name": "python",
   "nbconvert_exporter": "python",
   "pygments_lexer": "ipython3",
   "version": "3.8.8"
  },
  "orig_nbformat": 4
 },
 "nbformat": 4,
 "nbformat_minor": 2
}
