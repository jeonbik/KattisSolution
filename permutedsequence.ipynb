{
 "cells": [
  {
   "cell_type": "code",
   "execution_count": 14,
   "metadata": {},
   "outputs": [
    {
     "name": "stdout",
     "output_type": "stream",
     "text": [
      "arithmetic\n",
      "permuted arithmetic\n",
      "non-arithmetic\n"
     ]
    }
   ],
   "source": [
    "for i in range(int(input())):\n",
    "    inputs_ = list(map(int,input().split()))\n",
    "    length,values = inputs_[0],inputs_[1:]\n",
    "    diff = [values[n]-values[n-1] for n in range(1,length)]\n",
    "    sorted_list = sorted(values)\n",
    "    sorted_diff = [sorted_list[n]-sorted_list[n-1] for n in range(1,length)]\n",
    "    if len(set(diff)) == 1: ans = \"arithmetic\"\n",
    "    elif len(set(sorted_diff)) == 1:ans = \"permuted arithmetic\"\n",
    "    else: ans = \"non-arithmetic\"\n",
    "    print(ans)\n"
   ]
  }
 ],
 "metadata": {
  "interpreter": {
   "hash": "6b9e98c0456a3f62642c1485ef1345fe39e2b651191fbf3c6db44293b6747641"
  },
  "kernelspec": {
   "display_name": "Python 3.9.7 ('tfmac')",
   "language": "python",
   "name": "python3"
  },
  "language_info": {
   "codemirror_mode": {
    "name": "ipython",
    "version": 3
   },
   "file_extension": ".py",
   "mimetype": "text/x-python",
   "name": "python",
   "nbconvert_exporter": "python",
   "pygments_lexer": "ipython3",
   "version": "3.9.7"
  },
  "orig_nbformat": 4
 },
 "nbformat": 4,
 "nbformat_minor": 2
}
