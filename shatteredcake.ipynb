{
 "cells": [
  {
   "cell_type": "code",
   "execution_count": 2,
   "metadata": {},
   "outputs": [
    {
     "name": "stdout",
     "output_type": "stream",
     "text": [
      "6.0\n"
     ]
    }
   ],
   "source": [
    "W = int(input())\n",
    "N= int(input())\n",
    "area = 0\n",
    "for i in range(N):\n",
    "    l,b = map(int,input().split())\n",
    "    area += l * b\n",
    "print(int(area/W))\n"
   ]
  }
 ],
 "metadata": {
  "interpreter": {
   "hash": "6b9e98c0456a3f62642c1485ef1345fe39e2b651191fbf3c6db44293b6747641"
  },
  "kernelspec": {
   "display_name": "Python 3.9.7 ('tfmac')",
   "language": "python",
   "name": "python3"
  },
  "language_info": {
   "codemirror_mode": {
    "name": "ipython",
    "version": 3
   },
   "file_extension": ".py",
   "mimetype": "text/x-python",
   "name": "python",
   "nbconvert_exporter": "python",
   "pygments_lexer": "ipython3",
   "version": "3.9.7"
  },
  "orig_nbformat": 4
 },
 "nbformat": 4,
 "nbformat_minor": 2
}
