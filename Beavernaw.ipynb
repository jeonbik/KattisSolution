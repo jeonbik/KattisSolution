{
 "cells": [
  {
   "cell_type": "code",
   "execution_count": 5,
   "metadata": {
    "ExecuteTime": {
     "end_time": "2021-07-05T23:31:39.737601Z",
     "start_time": "2021-07-05T23:31:19.146236Z"
    }
   },
   "outputs": [
    {
     "name": "stdout",
     "output_type": "stream",
     "text": [
      "10 250\n",
      "8.05449857595639\n",
      "20 2500\n",
      "14.77493888046596\n",
      "25 7000\n",
      "13.115314878795159\n",
      "50 50000\n",
      "30.901188723016517\n",
      "0 0\n"
     ]
    }
   ],
   "source": [
    "import math\n",
    "while True:\n",
    "    D,V = map(int,input().split())\n",
    "    if D == 0 and V == 0:\n",
    "        break\n",
    "    else:\n",
    "        temp = D**3 - 6 * V /math.pi\n",
    "        print(temp **(1/3.0))\n",
    "        "
   ]
  }
 ],
 "metadata": {
  "kernelspec": {
   "display_name": "Python 3",
   "language": "python",
   "name": "python3"
  },
  "language_info": {
   "codemirror_mode": {
    "name": "ipython",
    "version": 3
   },
   "file_extension": ".py",
   "mimetype": "text/x-python",
   "name": "python",
   "nbconvert_exporter": "python",
   "pygments_lexer": "ipython3",
   "version": "3.7.6"
  }
 },
 "nbformat": 4,
 "nbformat_minor": 4
}
