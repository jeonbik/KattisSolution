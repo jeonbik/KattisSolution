{
 "cells": [
  {
   "cell_type": "code",
   "execution_count": 18,
   "metadata": {},
   "outputs": [
    {
     "name": "stdout",
     "output_type": "stream",
     "text": [
      "invalid\n"
     ]
    }
   ],
   "source": [
    "import sys\n",
    "row,column,diagonal_1,diagonal_2 = set(),set(),set(),set()\n",
    "for i in range(8):\n",
    "    arrange = input().strip()\n",
    "    # print(\"arrang: \",arrange)\n",
    "    for j,character in enumerate(arrange):\n",
    "        # print(\"j {} character {}\".format(j,character))\n",
    "        if arrange[j] == \"*\":\n",
    "            # print(\"j {} character {}\".format(j,character))\n",
    "            row.add(i),column.add(j),diagonal_1.add(i+j),diagonal_2.add(i-j)\n",
    "    # break\n",
    "if len(row) == 8 and len(column) == 8 and len(diagonal_1) == 8 and len(diagonal_2) == 8: print(\"valid\")\n",
    "else: print('invalid') \n",
    "\n",
    "\n",
    "\n"
   ]
  }
 ],
 "metadata": {
  "interpreter": {
   "hash": "6b9e98c0456a3f62642c1485ef1345fe39e2b651191fbf3c6db44293b6747641"
  },
  "kernelspec": {
   "display_name": "Python 3.9.7 ('tfmac')",
   "language": "python",
   "name": "python3"
  },
  "language_info": {
   "codemirror_mode": {
    "name": "ipython",
    "version": 3
   },
   "file_extension": ".py",
   "mimetype": "text/x-python",
   "name": "python",
   "nbconvert_exporter": "python",
   "pygments_lexer": "ipython3",
   "version": "3.9.7"
  },
  "orig_nbformat": 4
 },
 "nbformat": 4,
 "nbformat_minor": 2
}
