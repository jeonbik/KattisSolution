{
 "cells": [
  {
   "cell_type": "code",
   "execution_count": 5,
   "id": "5a76b265",
   "metadata": {},
   "outputs": [
    {
     "name": "stdout",
     "output_type": "stream",
     "text": [
      "6\n",
      "A\n",
      "D\n",
      "B\n",
      "B\n",
      "C\n",
      "A\n",
      "1\n"
     ]
    }
   ],
   "source": [
    "num = int(input())\n",
    "count = 0\n",
    "for i in range(num):\n",
    "    if i == 0:\n",
    "        val = input()\n",
    "    else:\n",
    "        new = input()\n",
    "        if new == val:\n",
    "            count += 1\n",
    "        val = new\n",
    "print(count)\n",
    "        \n",
    "    \n",
    "\n",
    "        \n",
    "    "
   ]
  },
  {
   "cell_type": "code",
   "execution_count": 16,
   "id": "fad0fdbe",
   "metadata": {},
   "outputs": [
    {
     "name": "stdout",
     "output_type": "stream",
     "text": [
      "6\n"
     ]
    },
    {
     "ename": "NameError",
     "evalue": "name 'long' is not defined",
     "output_type": "error",
     "traceback": [
      "\u001b[0;31m---------------------------------------------------------------------------\u001b[0m",
      "\u001b[0;31mNameError\u001b[0m                                 Traceback (most recent call last)",
      "\u001b[0;32m<ipython-input-16-d6c982f632c9>\u001b[0m in \u001b[0;36m<module>\u001b[0;34m\u001b[0m\n\u001b[1;32m      3\u001b[0m \u001b[0mcurrent_amount\u001b[0m \u001b[0;34m=\u001b[0m \u001b[0mprinciple\u001b[0m\u001b[0;34m\u001b[0m\u001b[0;34m\u001b[0m\u001b[0m\n\u001b[1;32m      4\u001b[0m \u001b[0mdays\u001b[0m \u001b[0;34m=\u001b[0m \u001b[0mint\u001b[0m\u001b[0;34m(\u001b[0m\u001b[0minput\u001b[0m\u001b[0;34m(\u001b[0m\u001b[0;34m)\u001b[0m\u001b[0;34m)\u001b[0m\u001b[0;34m\u001b[0m\u001b[0;34m\u001b[0m\u001b[0m\n\u001b[0;32m----> 5\u001b[0;31m \u001b[0mdays\u001b[0m \u001b[0;34m=\u001b[0m \u001b[0mlong\u001b[0m\u001b[0;34m(\u001b[0m\u001b[0mdays\u001b[0m\u001b[0;34m)\u001b[0m\u001b[0;34m\u001b[0m\u001b[0;34m\u001b[0m\u001b[0m\n\u001b[0m\u001b[1;32m      6\u001b[0m \u001b[0mtotalShares\u001b[0m\u001b[0;34m=\u001b[0m \u001b[0;36m0\u001b[0m\u001b[0;34m\u001b[0m\u001b[0;34m\u001b[0m\u001b[0m\n\u001b[1;32m      7\u001b[0m \u001b[0;32mfor\u001b[0m \u001b[0mi\u001b[0m \u001b[0;32min\u001b[0m \u001b[0mrange\u001b[0m\u001b[0;34m(\u001b[0m\u001b[0mdays\u001b[0m\u001b[0;34m)\u001b[0m\u001b[0;34m:\u001b[0m\u001b[0;34m\u001b[0m\u001b[0;34m\u001b[0m\u001b[0m\n",
      "\u001b[0;31mNameError\u001b[0m: name 'long' is not defined"
     ]
    }
   ],
   "source": [
    "principle = 100\n",
    "profit = 0\n",
    "current_amount = principle\n",
    "days = int(input())\n",
    "totalShares= 0\n",
    "for i in range(days):\n",
    "    price = int(input())\n",
    "    if price <= current_amount:\n",
    "        if totalShares < 100000:\n",
    "            canBeBought = 100000 - totalShares\n",
    "            if canBeBought >= int(current_amount/price):\n",
    "                boughtshares= int(current_amount/price)\n",
    "                totalShares += boughtshares\n",
    "                boughtPrice = price\n",
    "                invest = boughtPrice * boughtshares\n",
    "                current_amount = current_amount - invest\n",
    "            elif canBeBought < int(current_amount/price):\n",
    "                boughtshares = canBeBought\n",
    "                totalShares += boughtshares\n",
    "                boughtPrice = price\n",
    "                invest = boughtPrice * boughtshares\n",
    "                current_amount = current_amount - invest\n",
    "    if totalShares != 0 :\n",
    "        if price > boughtPrice:\n",
    "            returnamount = totalShares * price\n",
    "            current_amount += returnamount\n",
    "            totalShares = 0\n",
    "print(current_amount)\n",
    "            \n",
    "\n",
    "    "
   ]
  },
  {
   "cell_type": "code",
   "execution_count": 8,
   "id": "2ccfb5b0",
   "metadata": {},
   "outputs": [
    {
     "name": "stdout",
     "output_type": "stream",
     "text": [
      "0\n"
     ]
    }
   ],
   "source": [
    "print(totalShares)"
   ]
  },
  {
   "cell_type": "code",
   "execution_count": null,
   "id": "955517ca",
   "metadata": {},
   "outputs": [],
   "source": [
    "6\n",
    "100\n",
    "200\n",
    "100\n",
    "150\n",
    "125\n",
    "300"
   ]
  }
 ],
 "metadata": {
  "kernelspec": {
   "display_name": "Python 3",
   "language": "python",
   "name": "python3"
  },
  "language_info": {
   "codemirror_mode": {
    "name": "ipython",
    "version": 3
   },
   "file_extension": ".py",
   "mimetype": "text/x-python",
   "name": "python",
   "nbconvert_exporter": "python",
   "pygments_lexer": "ipython3",
   "version": "3.8.8"
  }
 },
 "nbformat": 4,
 "nbformat_minor": 5
}
