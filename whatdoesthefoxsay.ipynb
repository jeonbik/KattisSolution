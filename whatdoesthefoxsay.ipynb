{
 "cells": [
  {
   "cell_type": "code",
   "execution_count": null,
   "metadata": {},
   "outputs": [],
   "source": [
    "for i in range(int(input())):\n",
    "    statement = \"what does the fox say?\"\n",
    "    words = input().split()\n",
    "    to_del = []\n",
    "    while True:\n",
    "        command = input()\n",
    "        if command == statement: \n",
    "            for word in words:\n",
    "                if word not in to_del: print(word, end= \" \")\n",
    "            break\n",
    "        command = command.split()\n",
    "        to_del.append(command[2])"
   ]
  },
  {
   "cell_type": "code",
   "execution_count": null,
   "metadata": {},
   "outputs": [],
   "source": [
    "def compare_intersect(x, y):\n",
    "    return frozenset(x).intersection(y)\n",
    "\n",
    "# Comparing short lists\n",
    "while True:\n",
    "    jack,jill = map(int,input().split())\n",
    "    if jack == 0 and jill == 0: break\n",
    "    jack_cd = list(int(input()) for i in range(jack))\n",
    "    jack_lst = jack_cd[-1]\n",
    "    jill_cd = []\n",
    "    inputs = True\n",
    "    for _ in range(jill):\n",
    "        if inputs:\n",
    "            jillcd = int(input())\n",
    "            jill_cd.append(jillcd)\n",
    "            if jillcd > jack_lst: inputs = False\n",
    "        else: input()\n",
    "    print(len(compare_intersect(jack_cd,jill_cd)))\n"
   ]
  },
  {
   "cell_type": "code",
   "execution_count": 114,
   "metadata": {},
   "outputs": [
    {
     "name": "stdout",
     "output_type": "stream",
     "text": [
      "2 4 \n",
      "\n"
     ]
    }
   ],
   "source": [
    "while(True):\n",
    "    try:\n",
    "        to_find = input()\n",
    "        if not to_find:break\n",
    "        sentence = input()\n",
    "        # print(sentence)\n",
    "        if len (to_find) > len(sentence): pass\n",
    "        else:    \n",
    "            for i,char in enumerate(sentence):\n",
    "                if char == to_find[0]:\n",
    "                    len_word = 0\n",
    "                    len_word = i + len(to_find)\n",
    "                    # print(\"Temp len: {} \".format(len_word))\n",
    "                    if len_word <= len(sentence): \n",
    "                        # print(\"character: {} tofind: {} i: {} len of word: {}\".format(char,to_find[0],i,len_word))\n",
    "                        word = sentence[i:len_word]\n",
    "                        # print(\"Word: \", word )\n",
    "                        if word == to_find: print(i,end = \" \")\n",
    "            print(\"\\n\")\n",
    "    except:break"
   ]
  },
  {
   "cell_type": "code",
   "execution_count": null,
   "metadata": {},
   "outputs": [],
   "source": [
    "for i,c in enumerate(\"bik\"):\n",
    "    print(i)"
   ]
  },
  {
   "cell_type": "code",
   "execution_count": null,
   "metadata": {},
   "outputs": [],
   "source": [
    "p\n",
    "Popup\n",
    "helo\n",
    "Hello there!\n",
    "peek a boo\n",
    "you speek a bootiful language\n",
    "anas\n",
    "bananananaspaj\n",
    "\n"
   ]
  },
  {
   "cell_type": "code",
   "execution_count": null,
   "metadata": {},
   "outputs": [],
   "source": []
  }
 ],
 "metadata": {
  "interpreter": {
   "hash": "b95159b0fb4f3907fcf04fc95e1d79e4cd1ad49eae47773d29a17ecd45801e72"
  },
  "kernelspec": {
   "display_name": "Python 3.9.7 ('pythonDatastructure')",
   "language": "python",
   "name": "python3"
  },
  "language_info": {
   "codemirror_mode": {
    "name": "ipython",
    "version": 3
   },
   "file_extension": ".py",
   "mimetype": "text/x-python",
   "name": "python",
   "nbconvert_exporter": "python",
   "pygments_lexer": "ipython3",
   "version": "3.9.7"
  },
  "orig_nbformat": 4
 },
 "nbformat": 4,
 "nbformat_minor": 2
}
