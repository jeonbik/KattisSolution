{
 "cells": [
  {
   "cell_type": "code",
   "execution_count": 53,
   "id": "853d80c3",
   "metadata": {},
   "outputs": [
    {
     "name": "stdout",
     "output_type": "stream",
     "text": [
      "def foo 3\n",
      "calc foo + bar =\n",
      "foo + bar = unknown\n",
      "def bar 7\n",
      "def programming 10\n",
      "\n"
     ]
    }
   ],
   "source": [
    "import sys\n",
    "worth = {}\n",
    "while True:\n",
    "    inputs = input()\n",
    "    if len(inputs) == 0:\n",
    "        break\n",
    "    if inputs == \"clear\":\n",
    "        worth.clear()\n",
    "    words = inputs.split()\n",
    "    if words[0] == \"def\":\n",
    "        worth[words[1]] = words[2]\n",
    "    else:\n",
    "        Unknown = False\n",
    "        expression = ''\n",
    "        words.remove(words[0])\n",
    "        i = 1\n",
    "        for word in words:\n",
    "            if i%2==0:\n",
    "                expression += word\n",
    "            else:\n",
    "                try:\n",
    "                    expression += worth[word]\n",
    "                except KeyError:\n",
    "                    Unknown = True\n",
    "                    break\n",
    "            \n",
    "            i += 1    \n",
    "        expressionCopy = expression[:-1]\n",
    "        value = eval(expressionCopy)\n",
    "        if Unknown or str(value) not in worth.values():\n",
    "            print(*words,\"unknown\")\n",
    "        else: \n",
    "            print(*words,list(worth.keys())[list(worth.values()).index(str(value))])\n",
    "            \n",
    "            "
   ]
  },
  {
   "cell_type": "code",
   "execution_count": 35,
   "id": "c345adec",
   "metadata": {},
   "outputs": [
    {
     "name": "stdout",
     "output_type": "stream",
     "text": [
      "8\n",
      "1 1 1 5 3 4 6 6\n",
      "4\n"
     ]
    }
   ],
   "source": [
    "participants = int(input())\n",
    "values = {}\n",
    "value = list(map(int,input().split()))\n",
    "minimum = min(value)\n",
    "for digit in value:\n",
    "    if digit in values:\n",
    "        values[digit] = values[digit]+1\n",
    "    else:\n",
    "        values[digit] = 1\n",
    "    \n",
    "key = sorted(values.keys(),reverse=True)\n",
    "found = False\n",
    "for k in key:\n",
    "    if values[k] == 1:\n",
    "        print(value.index(k)+1)\n",
    "        found = True\n",
    "        break\n",
    "if not found:\n",
    "    print(\"none\")\n",
    "\n",
    "\n",
    "    "
   ]
  },
  {
   "cell_type": "code",
   "execution_count": 24,
   "id": "88f349b7",
   "metadata": {},
   "outputs": [],
   "source": [
    "8\n",
    "1 1 1 5 3 4 6 6\n",
    "\n"
   ]
  },
  {
   "cell_type": "code",
   "execution_count": 27,
   "id": "5877ad0f",
   "metadata": {},
   "outputs": [],
   "source": [
    "k = sorted(key)"
   ]
  },
  {
   "cell_type": "code",
   "execution_count": 28,
   "id": "e1c6bac9",
   "metadata": {},
   "outputs": [
    {
     "data": {
      "text/plain": [
       "[1, 3, 4, 5, 6]"
      ]
     },
     "execution_count": 28,
     "metadata": {},
     "output_type": "execute_result"
    }
   ],
   "source": [
    "k"
   ]
  },
  {
   "cell_type": "code",
   "execution_count": null,
   "id": "755c013c",
   "metadata": {},
   "outputs": [],
   "source": []
  }
 ],
 "metadata": {
  "kernelspec": {
   "display_name": "Python 3 (ipykernel)",
   "language": "python",
   "name": "python3"
  },
  "language_info": {
   "codemirror_mode": {
    "name": "ipython",
    "version": 3
   },
   "file_extension": ".py",
   "mimetype": "text/x-python",
   "name": "python",
   "nbconvert_exporter": "python",
   "pygments_lexer": "ipython3",
   "version": "3.10.0"
  }
 },
 "nbformat": 4,
 "nbformat_minor": 5
}
