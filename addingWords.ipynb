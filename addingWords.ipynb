{
 "cells": [
  {
   "cell_type": "code",
   "execution_count": 53,
   "id": "1fc55c67",
   "metadata": {},
   "outputs": [
    {
     "name": "stdout",
     "output_type": "stream",
     "text": [
      "def foo 3\n",
      "calc foo + bar =\n",
      "foo + bar = unknown\n",
      "def bar 7\n",
      "def programming 10\n",
      "\n"
     ]
    }
   ],
   "source": [
    "import sys\n",
    "worth = {}\n",
    "while True:\n",
    "    inputs = input()\n",
    "    if len(inputs) == 0:\n",
    "        break\n",
    "    if inputs == \"clear\":\n",
    "        worth.clear()\n",
    "    words = inputs.split()\n",
    "    if words[0] == \"def\":\n",
    "        worth[words[1]] = words[2]\n",
    "    else:\n",
    "        Unknown = False\n",
    "        expression = ''\n",
    "        words.remove(words[0])\n",
    "        i = 1\n",
    "        for word in words:\n",
    "            if i%2==0:\n",
    "                expression += word\n",
    "            else:\n",
    "                try:\n",
    "                    expression += worth[word]\n",
    "                except KeyError:\n",
    "                    Unknown = True\n",
    "                    break\n",
    "            \n",
    "            i += 1    \n",
    "        expressionCopy = expression[:-1]\n",
    "        value = eval(expressionCopy)\n",
    "        if Unknown or str(value) not in worth.values():\n",
    "            print(*words,\"unknown\")\n",
    "        else: \n",
    "            print(*words,list(worth.keys())[list(worth.values()).index(str(value))])\n",
    "            \n",
    "            "
   ]
  }
 ],
 "metadata": {
  "kernelspec": {
   "display_name": "Python 3 (ipykernel)",
   "language": "python",
   "name": "python3"
  },
  "language_info": {
   "codemirror_mode": {
    "name": "ipython",
    "version": 3
   },
   "file_extension": ".py",
   "mimetype": "text/x-python",
   "name": "python",
   "nbconvert_exporter": "python",
   "pygments_lexer": "ipython3",
   "version": "3.10.0"
  }
 },
 "nbformat": 4,
 "nbformat_minor": 5
}
