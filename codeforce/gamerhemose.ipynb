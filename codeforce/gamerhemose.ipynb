{
 "cells": [
  {
   "cell_type": "code",
   "execution_count": null,
   "metadata": {},
   "outputs": [],
   "source": [
    "#Brute Force\n",
    "num = int(input())\n",
    "for i in range(int(input())):\n",
    "    no_of_weapons,health = map(int,input().split())\n",
    "    damage_range = input().split()\n",
    "    damage_range = sorted(damage_range)\n",
    "    weapons = [0]*2\n",
    "    weapons[0] = damage_range[-2]\n",
    "    weapons [1] = damage_range[-1]\n",
    "    hit  = 0\n",
    "    while(health > 0):\n",
    "        used_weapons = weapons[-1]\n",
    "        health -= used_weapons\n",
    "        hit += 1\n",
    "        weapons.pop()\n",
    "        weapons.insert(0,used_weapons)\n",
    "    print(hit)\n",
    "    \n",
    "    "
   ]
  },
  {
   "cell_type": "code",
   "execution_count": null,
   "metadata": {},
   "outputs": [],
   "source": [
    "#Faster Way\n",
    "num = int(input())\n",
    "for i in range(num):\n",
    "    no_of_weapons,health = input().split()\n",
    "    health = int(health)\n",
    "    damage_range = tuple(map(int,input().split()))\n",
    "    damage_range = tuple(sorted(damage_range,reverse=True))\n",
    "    x = damage_range[0]\n",
    "    y = damage_range[1]\n",
    "    hits = health//(x+y) * 2\n",
    "    remaining_health = health % (x+y)\n",
    "    if health <= x:\n",
    "        print(1)\n",
    "    elif remaining_health == 0:\n",
    "        print(hits)\n",
    "    elif remaining_health <= x:\n",
    "        print(1+hits)\n",
    "    else:\n",
    "        print(2 + hits)"
   ]
  }
 ],
 "metadata": {
  "interpreter": {
   "hash": "6b9e98c0456a3f62642c1485ef1345fe39e2b651191fbf3c6db44293b6747641"
  },
  "kernelspec": {
   "display_name": "Python 3.9.7 ('tfmac')",
   "language": "python",
   "name": "python3"
  },
  "language_info": {
   "codemirror_mode": {
    "name": "ipython",
    "version": 3
   },
   "file_extension": ".py",
   "mimetype": "text/x-python",
   "name": "python",
   "nbconvert_exporter": "python",
   "pygments_lexer": "ipython3",
   "version": "3.9.7"
  },
  "orig_nbformat": 4
 },
 "nbformat": 4,
 "nbformat_minor": 2
}
