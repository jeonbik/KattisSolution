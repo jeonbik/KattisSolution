{
 "cells": [
  {
   "cell_type": "code",
   "execution_count": null,
   "metadata": {},
   "outputs": [],
   "source": [
    "printed = False\n",
    "for i in range(int(input())):\n",
    "    items_num = int(input())\n",
    "    resturant_name = input()\n",
    "    pea_soup,pancakes = False,False\n",
    "    resturants = []\n",
    "    for j in range(items_num):\n",
    "        item = input()\n",
    "        if item == \"pea soup\":\n",
    "            pea_soup = True\n",
    "        elif item == \"pancakes\":\n",
    "            pancakes = True\n",
    "    if pea_soup and pancakes:\n",
    "        print(resturant_name)\n",
    "        printed = True \n",
    "        break\n",
    "if not printed:\n",
    "    print(\"Anywhere is fine I guess\")\n",
    "\n",
    "\n"
   ]
  }
 ],
 "metadata": {
  "interpreter": {
   "hash": "6b9e98c0456a3f62642c1485ef1345fe39e2b651191fbf3c6db44293b6747641"
  },
  "kernelspec": {
   "display_name": "Python 3.9.7 ('tfmac')",
   "language": "python",
   "name": "python3"
  },
  "language_info": {
   "codemirror_mode": {
    "name": "ipython",
    "version": 3
   },
   "file_extension": ".py",
   "mimetype": "text/x-python",
   "name": "python",
   "nbconvert_exporter": "python",
   "pygments_lexer": "ipython3",
   "version": "3.9.7"
  },
  "orig_nbformat": 4
 },
 "nbformat": 4,
 "nbformat_minor": 2
}
