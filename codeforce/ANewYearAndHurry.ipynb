{
 "cells": [
  {
   "cell_type": "code",
   "execution_count": 83,
   "metadata": {},
   "outputs": [
    {
     "name": "stdout",
     "output_type": "stream",
     "text": [
      "7\n"
     ]
    }
   ],
   "source": [
    "#Brute Force\n",
    "\n",
    "total_time = 240\n",
    "problems,k = map(int,input().split())\n",
    "time_req = [i*5 for i in range(1,problems+1)]\n",
    "time_in_hand = total_time - k\n",
    "total_time = 0\n",
    "problems_solved  = 0\n",
    "for i in range(problems):\n",
    "    time_for_problem = time_req[i]\n",
    "    total_time += time_for_problem\n",
    "    if total_time <= time_in_hand:\n",
    "        problems_solved += 1\n",
    "    else:\n",
    "        break\n",
    "print(problems_solved)\n"
   ]
  },
  {
   "cell_type": "code",
   "execution_count": 84,
   "metadata": {},
   "outputs": [
    {
     "name": "stdout",
     "output_type": "stream",
     "text": [
      "7\n"
     ]
    }
   ],
   "source": [
    "#Binary search Approach\n",
    "def search_val(list_,time):\n",
    "    lo,high = 0,len(list_)-1\n",
    "    # print(list_,time)\n",
    "    while lo <= high:\n",
    "       \n",
    "        mid = (lo + high)//2\n",
    "        mid_val = list_[mid]\n",
    "        # print(\"low: {}, high: {}, mid: {}, mid_val: {}\".format(lo,high,mid,mid_val))\n",
    "        if mid_val == time:\n",
    "            return mid+1\n",
    "        elif time > mid_val:\n",
    "            if lo == high:\n",
    "                return mid + 1\n",
    "            if mid < len(list_)-1:\n",
    "                if list_[mid+1]> time: return mid + 1\n",
    "            lo = mid + 1\n",
    "        elif time < mid_val:\n",
    "            if lo == high:\n",
    "                return mid \n",
    "            if mid >0:\n",
    "                if list_[mid - 1] < time: return mid\n",
    "            high = mid - 1\n",
    "    return 0\n",
    "\n",
    "total_time = 240\n",
    "problems,k = map(int,input().split())\n",
    "total_time_req = [0]*problems\n",
    "for i in range(problems):\n",
    "    total_time_req[i] = total_time_req[i-1]+5*(i+1)\n",
    "\n",
    "time_in_hand = total_time - k\n",
    "\n",
    "print(search_val(total_time_req,time_in_hand))\n",
    "\n"
   ]
  }
 ],
 "metadata": {
  "interpreter": {
   "hash": "6b9e98c0456a3f62642c1485ef1345fe39e2b651191fbf3c6db44293b6747641"
  },
  "kernelspec": {
   "display_name": "Python 3.9.7 ('tfmac')",
   "language": "python",
   "name": "python3"
  },
  "language_info": {
   "codemirror_mode": {
    "name": "ipython",
    "version": 3
   },
   "file_extension": ".py",
   "mimetype": "text/x-python",
   "name": "python",
   "nbconvert_exporter": "python",
   "pygments_lexer": "ipython3",
   "version": "3.9.7"
  },
  "orig_nbformat": 4
 },
 "nbformat": 4,
 "nbformat_minor": 2
}
