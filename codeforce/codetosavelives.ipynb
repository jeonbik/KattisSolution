{
 "cells": [
  {
   "cell_type": "code",
   "execution_count": 19,
   "metadata": {},
   "outputs": [
    {
     "name": "stdout",
     "output_type": "stream",
     "text": [
      "a: 345 b: 567 result: 912\n",
      "9 1 2 a: 61 b: 325 result: 386\n",
      "3 8 6 "
     ]
    }
   ],
   "source": [
    "for i in range(int(input())):\n",
    "    a = input()\n",
    "    b = input()\n",
    "    a = \"\".join(i for i in a.split())\n",
    "    b = \"\".join(i for i in b.split())\n",
    "    result = int(a)+int(b)\n",
    "    result = str(result)\n",
    "    for letters in result: print(int(letters), end = \" \")"
   ]
  }
 ],
 "metadata": {
  "interpreter": {
   "hash": "6b9e98c0456a3f62642c1485ef1345fe39e2b651191fbf3c6db44293b6747641"
  },
  "kernelspec": {
   "display_name": "Python 3.9.7 ('tfmac')",
   "language": "python",
   "name": "python3"
  },
  "language_info": {
   "codemirror_mode": {
    "name": "ipython",
    "version": 3
   },
   "file_extension": ".py",
   "mimetype": "text/x-python",
   "name": "python",
   "nbconvert_exporter": "python",
   "pygments_lexer": "ipython3",
   "version": "3.9.7"
  },
  "orig_nbformat": 4
 },
 "nbformat": 4,
 "nbformat_minor": 2
}
