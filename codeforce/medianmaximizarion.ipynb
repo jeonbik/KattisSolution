{
 "cells": [
  {
   "cell_type": "code",
   "execution_count": null,
   "metadata": {},
   "outputs": [],
   "source": [
    "for i in range(int(input())):\n",
    "    n,s = map(int,input().split())\n",
    "    print(s//(n//2 + 1))"
   ]
  },
  {
   "cell_type": "code",
   "execution_count": 15,
   "metadata": {},
   "outputs": [
    {
     "name": "stdout",
     "output_type": "stream",
     "text": [
      "17418947301805038.000000000000000000\n"
     ]
    }
   ],
   "source": [
    "a,b,c = 123456789,987654321,7\n",
    "\n",
    "\n",
    "#map(int,input().split())\n",
    "if a >10**3 and b >10**3 and c ==1:\n",
    "    print(\"{:.20f}\".format(a*b/c))\n",
    "    \n",
    "else:print(\"{:.18f}\".format(a*b/c))\n",
    "\n"
   ]
  }
 ],
 "metadata": {
  "interpreter": {
   "hash": "6b9e98c0456a3f62642c1485ef1345fe39e2b651191fbf3c6db44293b6747641"
  },
  "kernelspec": {
   "display_name": "Python 3.9.7 ('tfmac')",
   "language": "python",
   "name": "python3"
  },
  "language_info": {
   "codemirror_mode": {
    "name": "ipython",
    "version": 3
   },
   "file_extension": ".py",
   "mimetype": "text/x-python",
   "name": "python",
   "nbconvert_exporter": "python",
   "pygments_lexer": "ipython3",
   "version": "3.9.7"
  },
  "orig_nbformat": 4
 },
 "nbformat": 4,
 "nbformat_minor": 2
}
