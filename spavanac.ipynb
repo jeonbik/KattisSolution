{
 "cells": [
  {
   "cell_type": "code",
   "execution_count": 14,
   "id": "b9dbe287",
   "metadata": {},
   "outputs": [
    {
     "name": "stdout",
     "output_type": "stream",
     "text": [
      "23 40\n",
      "22 55\n"
     ]
    }
   ],
   "source": [
    "hours,minutes = map(int,input().split())\n",
    "new_minutes = minutes-45\n",
    "if new_minutes < 0:\n",
    "    hours -= 1\n",
    "    new_minutes = 60-(abs(new_minutes)%60)\n",
    "if hours < 0:\n",
    "    hours = 23\n",
    "print(hours,new_minutes)"
   ]
  },
  {
   "cell_type": "code",
   "execution_count": null,
   "id": "57e56667",
   "metadata": {},
   "outputs": [],
   "source": []
  }
 ],
 "metadata": {
  "kernelspec": {
   "display_name": "Python 3",
   "language": "python",
   "name": "python3"
  },
  "language_info": {
   "codemirror_mode": {
    "name": "ipython",
    "version": 3
   },
   "file_extension": ".py",
   "mimetype": "text/x-python",
   "name": "python",
   "nbconvert_exporter": "python",
   "pygments_lexer": "ipython3",
   "version": "3.8.8"
  }
 },
 "nbformat": 4,
 "nbformat_minor": 5
}
