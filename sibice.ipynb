{
 "cells": [
  {
   "cell_type": "code",
   "execution_count": 2,
   "metadata": {},
   "outputs": [
    {
     "name": "stdout",
     "output_type": "stream",
     "text": [
      "DA\n",
      "NE\n"
     ]
    }
   ],
   "source": [
    "n,l,w = map(int,input().split())\n",
    "d = (l * l + w * w)**0.5\n",
    "for i in range(n):\n",
    "    val = int(input())\n",
    "    if val <= d:\n",
    "        print(\"DA\")\n",
    "    else:\n",
    "        print(\"NE\")\n"
   ]
  }
 ],
 "metadata": {
  "interpreter": {
   "hash": "31e5e0eac53311b16f1a24251c2c0b728254265bc4d2d75c24517654bf7026f2"
  },
  "kernelspec": {
   "display_name": "Python 3.7.11 ('ML')",
   "language": "python",
   "name": "python3"
  },
  "language_info": {
   "codemirror_mode": {
    "name": "ipython",
    "version": 3
   },
   "file_extension": ".py",
   "mimetype": "text/x-python",
   "name": "python",
   "nbconvert_exporter": "python",
   "pygments_lexer": "ipython3",
   "version": "3.7.11"
  },
  "orig_nbformat": 4
 },
 "nbformat": 4,
 "nbformat_minor": 2
}
