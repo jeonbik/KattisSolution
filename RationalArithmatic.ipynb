{
 "cells": [
  {
   "cell_type": "code",
   "execution_count": 45,
   "metadata": {},
   "outputs": [
    {
     "name": "stdout",
     "output_type": "stream",
     "text": [
      "0 / 2\n"
     ]
    }
   ],
   "source": [
    "from fractions import Fraction\n",
    "for i in range(int(input())):\n",
    "    x1,y1,operator,x2,y2 = input().split()\n",
    "    x1,y1,x2,y2 = int(x1),int(y1),int(x2),int(y2)\n",
    "    a,b= x1/y1, x2/y2\n",
    "    if operator == \"+\": ans = a + b\n",
    "    elif operator == \"-\": ans = a - b\n",
    "    elif operator == \"*\": ans = a * b\n",
    "    else: ans = a/b\n",
    "    ans = Fraction(ans).limit_denominator(10000000000)\n",
    "    den = ans.denominator\n",
    "    num = ans.numerator\n",
    "    if x1 == 0 and operator == \"+\": print(\"{} / {}\".format(x2,y2))\n",
    "    elif x1 == 0 and operator == \"-\": print(\"-{} / {}\".format(x2,y2))\n",
    "    elif x1 == 0 and operator == \"*\": print(\"{} / {}\".format(0,y1*y2))\n",
    "    elif x1 == 0 and operator == \"/\": print(\"{} / {}\".format(0,y1*x1))\n",
    "    else:print(\"{} / {}\".format(num,den))\n"
   ]
  }
 ],
 "metadata": {
  "interpreter": {
   "hash": "6b9e98c0456a3f62642c1485ef1345fe39e2b651191fbf3c6db44293b6747641"
  },
  "kernelspec": {
   "display_name": "Python 3.9.7 ('tfmac')",
   "language": "python",
   "name": "python3"
  },
  "language_info": {
   "codemirror_mode": {
    "name": "ipython",
    "version": 3
   },
   "file_extension": ".py",
   "mimetype": "text/x-python",
   "name": "python",
   "nbconvert_exporter": "python",
   "pygments_lexer": "ipython3",
   "version": "3.9.7"
  },
  "orig_nbformat": 4
 },
 "nbformat": 4,
 "nbformat_minor": 2
}
