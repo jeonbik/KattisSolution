{
 "cells": [
  {
   "cell_type": "code",
   "execution_count": null,
   "metadata": {},
   "outputs": [],
   "source": [
    "p,q = map(int,input().split())\n",
    "arr = input()\n",
    "if arr == \"ABBA\":\n",
    "    if (q-p) == 3:\n",
    "        print(p+1,p+2)\n",
    "    else: print(-1)\n",
    "elif arr == \"BBAA\":\n",
    "    if p == 3:\n",
    "        print(1,2)\n",
    "    else:\n",
    "        print(-1)\n",
    "elif arr == \"AABB\":\n",
    "    if q == 7:\n",
    "        print(8,9)\n",
    "    else:\n",
    "        print(-1)\n",
    "elif arr == \"ABAB\":\n",
    "    if p == 6 and q == 8:\n",
    "        print(7,9)\n",
    "    else:\n",
    "        print(-1)\n",
    "elif arr == \"BABA\":\n",
    "    if p ==2 and q == 4:\n",
    "        print(1,3)\n",
    "    else:\n",
    "        print(-1)\n",
    "elif arr == \"BAAB\":\n",
    "    print(-1)\n",
    "    \n"
   ]
  },
  {
   "cell_type": "code",
   "execution_count": null,
   "metadata": {},
   "outputs": [],
   "source": []
  }
 ],
 "metadata": {
  "interpreter": {
   "hash": "6b9e98c0456a3f62642c1485ef1345fe39e2b651191fbf3c6db44293b6747641"
  },
  "kernelspec": {
   "display_name": "Python 3.9.7 ('tfmac')",
   "language": "python",
   "name": "python3"
  },
  "language_info": {
   "codemirror_mode": {
    "name": "ipython",
    "version": 3
   },
   "file_extension": ".py",
   "mimetype": "text/x-python",
   "name": "python",
   "nbconvert_exporter": "python",
   "pygments_lexer": "ipython3",
   "version": "3.9.7"
  },
  "orig_nbformat": 4
 },
 "nbformat": 4,
 "nbformat_minor": 2
}
