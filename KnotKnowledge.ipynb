{
 "cells": [
  {
   "cell_type": "code",
   "execution_count": 3,
   "id": "87364d2a",
   "metadata": {},
   "outputs": [
    {
     "name": "stdout",
     "output_type": "stream",
     "text": [
      "4\n",
      "1 2 3 4\n",
      "1 2 3\n",
      "4\n"
     ]
    }
   ],
   "source": [
    "n = input()\n",
    "knots = list(map(int,input().split()))\n",
    "sknots = list(map(int,input().split()))\n",
    "missed = 0\n",
    "for knot in knots:\n",
    "    if knot not in sknots:\n",
    "        missed = knot\n",
    "        break\n",
    "print(missed)"
   ]
  },
  {
   "cell_type": "code",
   "execution_count": null,
   "id": "3a6f4094",
   "metadata": {},
   "outputs": [],
   "source": []
  }
 ],
 "metadata": {
  "kernelspec": {
   "display_name": "Python 3",
   "language": "python",
   "name": "python3"
  },
  "language_info": {
   "codemirror_mode": {
    "name": "ipython",
    "version": 3
   },
   "file_extension": ".py",
   "mimetype": "text/x-python",
   "name": "python",
   "nbconvert_exporter": "python",
   "pygments_lexer": "ipython3",
   "version": "3.8.8"
  }
 },
 "nbformat": 4,
 "nbformat_minor": 5
}
