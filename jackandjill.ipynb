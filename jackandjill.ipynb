{
 "cells": [
  {
   "cell_type": "code",
   "execution_count": 43,
   "metadata": {},
   "outputs": [
    {
     "name": "stdout",
     "output_type": "stream",
     "text": [
      "2\n"
     ]
    }
   ],
   "source": [
    "\n",
    "        \n",
    "def binary_search(list_,jack,val):\n",
    "    low,high = 0,jack - 1\n",
    "    while low<=high:\n",
    "        mid = (low+high)//2\n",
    "        mid_val = list_[mid]\n",
    "        if mid_val == val:return True\n",
    "        elif mid_val < val: low = mid + 1\n",
    "        elif mid_val > val: high = mid - 1\n",
    "        else: return -1\n",
    "    return -1\n",
    "\n",
    "while True:\n",
    "    jack,jill = map(int,input().split())\n",
    "    if jack == 0 and jill == 0: break\n",
    "    collection = []\n",
    "    for i in range(jack):\n",
    "        collection.append(int(input()))\n",
    "        if i == jack-1: coll_ = i\n",
    "    count = 0\n",
    "    for j in range(jill):\n",
    "        cd = int(input())\n",
    "        if cd <= coll_:\n",
    "            ans = binary_search(collection,jack,cd)\n",
    "            if ans: count += 1\n",
    "        else: \n",
    "            pass\n",
    "            \n",
    "    print(count)\n",
    "    collection.clear()\n",
    "\n"
   ]
  }
 ],
 "metadata": {
  "interpreter": {
   "hash": "6b9e98c0456a3f62642c1485ef1345fe39e2b651191fbf3c6db44293b6747641"
  },
  "kernelspec": {
   "display_name": "Python 3.9.7 ('tfmac')",
   "language": "python",
   "name": "python3"
  },
  "language_info": {
   "codemirror_mode": {
    "name": "ipython",
    "version": 3
   },
   "file_extension": ".py",
   "mimetype": "text/x-python",
   "name": "python",
   "nbconvert_exporter": "python",
   "pygments_lexer": "ipython3",
   "version": "3.9.7"
  },
  "orig_nbformat": 4
 },
 "nbformat": 4,
 "nbformat_minor": 2
}
