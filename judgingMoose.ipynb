{
 "cells": [
  {
   "cell_type": "code",
   "execution_count": 3,
   "id": "fd88f101",
   "metadata": {},
   "outputs": [
    {
     "name": "stdout",
     "output_type": "stream",
     "text": [
      "0 0\n",
      "Not a moose\n"
     ]
    }
   ],
   "source": [
    "left,right = map(int,input().split())\n",
    "if left==0 and right == 0:\n",
    "    print(\"Not a moose\")\n",
    "elif left == right:\n",
    "    print(\"Even\",left+right)\n",
    "else:\n",
    "    print(\"Odd\",2*max(left,right))"
   ]
  },
  {
   "cell_type": "code",
   "execution_count": null,
   "id": "8d5b0c8c",
   "metadata": {},
   "outputs": [],
   "source": []
  }
 ],
 "metadata": {
  "kernelspec": {
   "display_name": "Python 3",
   "language": "python",
   "name": "python3"
  },
  "language_info": {
   "codemirror_mode": {
    "name": "ipython",
    "version": 3
   },
   "file_extension": ".py",
   "mimetype": "text/x-python",
   "name": "python",
   "nbconvert_exporter": "python",
   "pygments_lexer": "ipython3",
   "version": "3.8.8"
  }
 },
 "nbformat": 4,
 "nbformat_minor": 5
}
