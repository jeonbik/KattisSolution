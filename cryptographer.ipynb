{
 "cells": [
  {
   "cell_type": "code",
   "execution_count": 1,
   "metadata": {},
   "outputs": [
    {
     "name": "stdout",
     "output_type": "stream",
     "text": [
      "4\n"
     ]
    }
   ],
   "source": [
    "word = input()\n",
    "total = 0\n",
    "for i in range(len(word)):\n",
    "    if i % 3 == 0 and word[i] != 'P':\n",
    "        total += 1\n",
    "    if i % 3 == 1 and word[i] != \"E\":\n",
    "        total += 1\n",
    "    if i % 3 == 2 and word[i] != \"R\":\n",
    "        total += 1\n",
    "print(total)\n"
   ]
  }
 ],
 "metadata": {
  "interpreter": {
   "hash": "26f5811f7ee005381ac2ee0557ac5cc025bbaba0a36b2d565725d13779b0ac6f"
  },
  "kernelspec": {
   "display_name": "Python 3.8.8 ('base')",
   "language": "python",
   "name": "python3"
  },
  "language_info": {
   "codemirror_mode": {
    "name": "ipython",
    "version": 3
   },
   "file_extension": ".py",
   "mimetype": "text/x-python",
   "name": "python",
   "nbconvert_exporter": "python",
   "pygments_lexer": "ipython3",
   "version": "3.8.8"
  },
  "orig_nbformat": 4
 },
 "nbformat": 4,
 "nbformat_minor": 2
}
