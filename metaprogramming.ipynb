{
 "cells": [
  {
   "cell_type": "code",
   "execution_count": 19,
   "metadata": {},
   "outputs": [],
   "source": [
    "import sys\n",
    "values = {}\n",
    "output = {True: 'true', False: 'false'}\n",
    "for line in sys.stdin:\n",
    "    input_ = line.split()\n",
    "    if input_[0] == \"define\": values[input_[2]] = int(input_[1])\n",
    "    elif input_[0] == \"eval\": \n",
    "        a,operator,b = input_[1],input_[2],input_[3]\n",
    "            # print(\"a {} operator {} b {}\".format(a,operator,b))\n",
    "        if a in values and b in values:\n",
    "            if operator == '<': print(output[values[a] < values[b]])\n",
    "            elif operator == '>':print(output[values[a] > values[b]])\n",
    "            elif operator == '=':print(output[values[a]==values[b]])    \n",
    "        else: print(\"undefined\")"
   ]
  }
 ],
 "metadata": {
  "interpreter": {
   "hash": "6b9e98c0456a3f62642c1485ef1345fe39e2b651191fbf3c6db44293b6747641"
  },
  "kernelspec": {
   "display_name": "Python 3.9.7 ('tfmac')",
   "language": "python",
   "name": "python3"
  },
  "language_info": {
   "codemirror_mode": {
    "name": "ipython",
    "version": 3
   },
   "file_extension": ".py",
   "mimetype": "text/x-python",
   "name": "python",
   "nbconvert_exporter": "python",
   "pygments_lexer": "ipython3",
   "version": "3.9.7"
  },
  "orig_nbformat": 4
 },
 "nbformat": 4,
 "nbformat_minor": 2
}
